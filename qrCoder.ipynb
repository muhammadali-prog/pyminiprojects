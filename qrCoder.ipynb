{
 "cells": [
  {
   "cell_type": "code",
   "execution_count": 1,
   "id": "be4a1d69",
   "metadata": {},
   "outputs": [],
   "source": [
    "import qrcode "
   ]
  },
  {
   "cell_type": "code",
   "execution_count": 2,
   "id": "4f925cf8",
   "metadata": {},
   "outputs": [
    {
     "name": "stdout",
     "output_type": "stream",
     "text": [
      "Enter your name:Muhammad Nauman Ali\n",
      "Enter your id:giki4556\n"
     ]
    }
   ],
   "source": [
    "your_name=input(\"Enter your name:\")\n",
    "your_id=input(\"Enter your id:\")"
   ]
  },
  {
   "cell_type": "code",
   "execution_count": 3,
   "id": "3ad3a633",
   "metadata": {},
   "outputs": [
    {
     "name": "stdout",
     "output_type": "stream",
     "text": [
      "Enter a name for QR image file must use the '.png' at the end.ngik.png\n"
     ]
    }
   ],
   "source": [
    "img = qrcode.make(your_name+\":\"+your_id)\n",
    "f_name=input(\"Enter a name for QR image file must use the '.png' at the end.\")\n",
    "img.save(f_name)"
   ]
  },
  {
   "cell_type": "code",
   "execution_count": 4,
   "id": "55b6fd25",
   "metadata": {},
   "outputs": [],
   "source": [
    "img.show()"
   ]
  }
 ],
 "metadata": {
  "kernelspec": {
   "display_name": "Python 3",
   "language": "python",
   "name": "python3"
  },
  "language_info": {
   "codemirror_mode": {
    "name": "ipython",
    "version": 3
   },
   "file_extension": ".py",
   "mimetype": "text/x-python",
   "name": "python",
   "nbconvert_exporter": "python",
   "pygments_lexer": "ipython3",
   "version": "3.8.8"
  }
 },
 "nbformat": 4,
 "nbformat_minor": 5
}
