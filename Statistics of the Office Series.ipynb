{
 "cells": [
  {
   "cell_type": "code",
   "execution_count": 1,
   "id": "005a5af2",
   "metadata": {},
   "outputs": [],
   "source": [
    "import pandas as pd\n",
    "import matplotlib.pyplot as plot\n"
   ]
  },
  {
   "cell_type": "code",
   "execution_count": 2,
   "id": "e3e9d088",
   "metadata": {},
   "outputs": [],
   "source": [
    "data=pd.read_csv('Desktop/Kaggle/the_office_series.csv',index_col=[0])"
   ]
  },
  {
   "cell_type": "code",
   "execution_count": 4,
   "id": "27e4e2fe",
   "metadata": {},
   "outputs": [
    {
     "data": {
      "text/html": [
       "<div>\n",
       "<style scoped>\n",
       "    .dataframe tbody tr th:only-of-type {\n",
       "        vertical-align: middle;\n",
       "    }\n",
       "\n",
       "    .dataframe tbody tr th {\n",
       "        vertical-align: top;\n",
       "    }\n",
       "\n",
       "    .dataframe thead th {\n",
       "        text-align: right;\n",
       "    }\n",
       "</style>\n",
       "<table border=\"1\" class=\"dataframe\">\n",
       "  <thead>\n",
       "    <tr style=\"text-align: right;\">\n",
       "      <th></th>\n",
       "      <th>Season</th>\n",
       "      <th>EpisodeTitle</th>\n",
       "      <th>About</th>\n",
       "      <th>Ratings</th>\n",
       "      <th>Votes</th>\n",
       "      <th>Viewership</th>\n",
       "      <th>Duration</th>\n",
       "      <th>Date</th>\n",
       "      <th>GuestStars</th>\n",
       "      <th>Director</th>\n",
       "      <th>Writers</th>\n",
       "    </tr>\n",
       "  </thead>\n",
       "  <tbody>\n",
       "    <tr>\n",
       "      <th>0</th>\n",
       "      <td>1</td>\n",
       "      <td>Pilot</td>\n",
       "      <td>The premiere episode introduces the boss and s...</td>\n",
       "      <td>7.5</td>\n",
       "      <td>4936</td>\n",
       "      <td>11.2</td>\n",
       "      <td>23</td>\n",
       "      <td>24 March 2005</td>\n",
       "      <td>NaN</td>\n",
       "      <td>Ken Kwapis</td>\n",
       "      <td>Ricky Gervais |Stephen Merchant and Greg Daniels</td>\n",
       "    </tr>\n",
       "    <tr>\n",
       "      <th>1</th>\n",
       "      <td>1</td>\n",
       "      <td>Diversity Day</td>\n",
       "      <td>Michael's off color remark puts a sensitivity ...</td>\n",
       "      <td>8.3</td>\n",
       "      <td>4801</td>\n",
       "      <td>6.0</td>\n",
       "      <td>23</td>\n",
       "      <td>29 March 2005</td>\n",
       "      <td>NaN</td>\n",
       "      <td>Ken Kwapis</td>\n",
       "      <td>B. J. Novak</td>\n",
       "    </tr>\n",
       "    <tr>\n",
       "      <th>2</th>\n",
       "      <td>1</td>\n",
       "      <td>Health Care</td>\n",
       "      <td>Michael leaves Dwight in charge of picking the...</td>\n",
       "      <td>7.8</td>\n",
       "      <td>4024</td>\n",
       "      <td>5.8</td>\n",
       "      <td>22</td>\n",
       "      <td>5 April 2005</td>\n",
       "      <td>NaN</td>\n",
       "      <td>Ken Whittingham</td>\n",
       "      <td>Paul Lieberstein</td>\n",
       "    </tr>\n",
       "    <tr>\n",
       "      <th>3</th>\n",
       "      <td>1</td>\n",
       "      <td>The Alliance</td>\n",
       "      <td>Just for a laugh, Jim agrees to an alliance wi...</td>\n",
       "      <td>8.1</td>\n",
       "      <td>3915</td>\n",
       "      <td>5.4</td>\n",
       "      <td>23</td>\n",
       "      <td>12 April 2005</td>\n",
       "      <td>NaN</td>\n",
       "      <td>Bryan Gordon</td>\n",
       "      <td>Michael Schur</td>\n",
       "    </tr>\n",
       "    <tr>\n",
       "      <th>4</th>\n",
       "      <td>1</td>\n",
       "      <td>Basketball</td>\n",
       "      <td>Michael and his staff challenge the warehouse ...</td>\n",
       "      <td>8.4</td>\n",
       "      <td>4294</td>\n",
       "      <td>5.0</td>\n",
       "      <td>23</td>\n",
       "      <td>19 April 2005</td>\n",
       "      <td>NaN</td>\n",
       "      <td>Greg Daniels</td>\n",
       "      <td>Greg Daniels</td>\n",
       "    </tr>\n",
       "  </tbody>\n",
       "</table>\n",
       "</div>"
      ],
      "text/plain": [
       "   Season   EpisodeTitle                                              About  \\\n",
       "0       1          Pilot  The premiere episode introduces the boss and s...   \n",
       "1       1  Diversity Day  Michael's off color remark puts a sensitivity ...   \n",
       "2       1    Health Care  Michael leaves Dwight in charge of picking the...   \n",
       "3       1   The Alliance  Just for a laugh, Jim agrees to an alliance wi...   \n",
       "4       1     Basketball  Michael and his staff challenge the warehouse ...   \n",
       "\n",
       "   Ratings  Votes  Viewership  Duration            Date GuestStars  \\\n",
       "0      7.5   4936        11.2        23   24 March 2005        NaN   \n",
       "1      8.3   4801         6.0        23   29 March 2005        NaN   \n",
       "2      7.8   4024         5.8        22    5 April 2005        NaN   \n",
       "3      8.1   3915         5.4        23   12 April 2005        NaN   \n",
       "4      8.4   4294         5.0        23   19 April 2005        NaN   \n",
       "\n",
       "          Director                                           Writers  \n",
       "0       Ken Kwapis  Ricky Gervais |Stephen Merchant and Greg Daniels  \n",
       "1       Ken Kwapis                                       B. J. Novak  \n",
       "2  Ken Whittingham                                  Paul Lieberstein  \n",
       "3     Bryan Gordon                                     Michael Schur  \n",
       "4     Greg Daniels                                      Greg Daniels  "
      ]
     },
     "execution_count": 4,
     "metadata": {},
     "output_type": "execute_result"
    }
   ],
   "source": [
    "data.head()"
   ]
  },
  {
   "cell_type": "code",
   "execution_count": 5,
   "id": "74c46eb1",
   "metadata": {},
   "outputs": [],
   "source": [
    "col=[]\n",
    "for index,row in data.iterrows():\n",
    "    if row['Ratings']/10 < 0.25:\n",
    "        col.append(\"red\")\n",
    "    elif ((row['Ratings']/10 >= 0.25) & (row['Ratings']/10 < 0.50)):\n",
    "        col.append(\"orange\")\n",
    "    elif ((row['Ratings']/10 >= 0.50) & (row['Ratings']/10 < 0.75)):\n",
    "        col.append(\"lightgreen\")\n",
    "    elif row['Ratings']/10 >= 0.75:\n",
    "        col.append(\"darkgreen\")\n",
    "size=[250 if pd.notna(data.GuestStars[n]) else 25 for n in range(len(data))]"
   ]
  },
  {
   "cell_type": "code",
   "execution_count": 6,
   "id": "b5fde336",
   "metadata": {},
   "outputs": [
    {
     "data": {
      "text/plain": [
       "Text(0.5, 1.0, 'Episode VS Viewership')"
      ]
     },
     "execution_count": 6,
     "metadata": {},
     "output_type": "execute_result"
    },
    {
     "data": {
      "image/png": "[encoded data removed]",
      "text/plain": [
       "<Figure size 432x288 with 1 Axes>"
      ]
     },
     "metadata": {
      "needs_background": "light"
     },
     "output_type": "display_data"
    }
   ],
   "source": [
    "fig=plot.figure()\n",
    "plot.scatter(x=data.index,y=data['Viewership'],c=col,s=size)\n",
    "plot.xlabel(\"Episode Number\")\n",
    "plot.ylabel(\"Viewership(milions)\")\n",
    "plot.title(\"Episode VS Viewership\")"
   ]
  },
  {
   "cell_type": "code",
   "execution_count": 9,
   "id": "1bd035b6",
   "metadata": {},
   "outputs": [
    {
     "data": {
      "text/plain": [
       "array([0.75, 0.83, 0.78, 0.81, 0.84, 0.77, 0.87, 0.82, 0.86, 0.89, 0.91,\n",
       "       0.85, 0.94, 0.9 , 0.8 , 0.79, 0.88, 0.92, 0.93, 0.95, 0.97, 0.76,\n",
       "       0.68, 0.74, 0.98, 0.73, 0.69, 0.66, 0.71, 0.7 ])"
      ]
     },
     "execution_count": 9,
     "metadata": {},
     "output_type": "execute_result"
    }
   ],
   "source": [
    "data['Ratings'].div(10).unique()"
   ]
  },
  {
   "cell_type": "code",
   "execution_count": 7,
   "id": "4a67b357",
   "metadata": {},
   "outputs": [
    {
     "data": {
      "text/plain": [
       "Text(0, 0.5, 'Viewership(Millions)')"
      ]
     },
     "execution_count": 7,
     "metadata": {},
     "output_type": "execute_result"
    },
    {
     "data": {
      "image/png": "[encoded data removed]",
      "text/plain": [
       "<Figure size 432x288 with 1 Axes>"
      ]
     },
     "metadata": {
      "needs_background": "light"
     },
     "output_type": "display_data"
    }
   ],
   "source": [
    "data.groupby(by=[\"Season\"]).Viewership.sum().plot.bar()\n",
    "plot.ylabel(\"Viewership(Millions)\")"
   ]
  },
  {
   "cell_type": "code",
   "execution_count": 11,
   "id": "5852ffe6",
   "metadata": {},
   "outputs": [
    {
     "data": {
      "text/plain": [
       "EpisodeTitle\n",
       "A Benihana Christmas    8.44\n",
       "A.A.R.M.                4.56\n",
       "After Hours             5.02\n",
       "Andy's Ancestry         4.14\n",
       "Andy's Play             6.95\n",
       "                        ... \n",
       "Weight Loss             9.20\n",
       "Welcome Party           4.39\n",
       "Whistleblower           6.60\n",
       "Women's Appreciation    7.00\n",
       "Work Bus                4.28\n",
       "Name: Viewership, Length: 188, dtype: float64"
      ]
     },
     "execution_count": 11,
     "metadata": {},
     "output_type": "execute_result"
    }
   ],
   "source": [
    "data.groupby(by=['EpisodeTitle']).Viewership.sum()"
   ]
  },
  {
   "cell_type": "code",
   "execution_count": 13,
   "id": "9a097a31",
   "metadata": {},
   "outputs": [
    {
     "data": {
      "text/plain": [
       "Writers\n",
       "Aaron Shure                                          43.04\n",
       "Allison Silverman                                    14.24\n",
       "Amelie Gillette                                      11.31\n",
       "Anthony Q. Farrell                                   16.63\n",
       "B. J. Novak                                         110.12\n",
       "Brent Forrester                                      66.14\n",
       "Brent Forrester | Justin Spitzer                      7.67\n",
       "Caroline Williams                                     8.84\n",
       "Carrie Kemper                                        22.40\n",
       "Charlie Grandy                                       47.43\n",
       "Dan Greaney                                           9.86\n",
       "Dan Sterling                                          8.66\n",
       "Daniel Chun                                          52.56\n",
       "Gene Stupnitsky | Lee Eisenberg                      62.97\n",
       "Graham Wagner                                         7.94\n",
       "Greg Daniels                                         66.30\n",
       "Greg Daniels | Mindy Kaling                          18.84\n",
       "Halsted Sullivan | Warren Lieberstein                15.58\n",
       "Jason Kessler                                         7.29\n",
       "Jennifer Celotta                                     65.22\n",
       "Jennifer Celotta | Greg Daniels                       7.20\n",
       "Jennifer Celotta | Paul Lieberstein                  14.79\n",
       "Jon Vitti                                            14.22\n",
       "Jonathan Green | Gabe Miller                          8.33\n",
       "Jonathan Hughes                                       7.51\n",
       "Justin Spitzer                                       64.92\n",
       "Justin Spitzer | Brent Forrester                      7.56\n",
       "Larry Wilmore                                         8.00\n",
       "Lee Eisenberg | Gene Stupnitsky                      41.59\n",
       "Lee Eisenberg | Gene Stupnitsky | Michael Schur      10.20\n",
       "Lester Lewis                                         17.21\n",
       "Michael Schur                                        55.63\n",
       "Michael Schur | Lee Eisenberg | Gene Stupnitsky      10.12\n",
       "Mindy Kaling                                        154.81\n",
       "Niki Schwartz-Wright                                  8.05\n",
       "Owen Ellickson                                       18.16\n",
       "Paul Lieberstein                                    111.99\n",
       "Paul Lieberstein | Michael Schur                      7.88\n",
       "Peter Ocko                                            7.65\n",
       "Ricky Gervais | Stephen Merchant                      9.07\n",
       "Ricky Gervais |Stephen Merchant and Greg Daniels     11.20\n",
       "Robert Padnick                                       21.45\n",
       "Ryan Koh                                             17.23\n",
       "Steve Carell                                         15.89\n",
       "Steve Hely                                           18.22\n",
       "Tim McAuliffe                                         3.44\n",
       "Warren Lieberstein | Halsted Sullivan                26.95\n",
       "Name: Viewership, dtype: float64"
      ]
     },
     "execution_count": 13,
     "metadata": {},
     "output_type": "execute_result"
    }
   ],
   "source": [
    "data.groupby('Writers').Viewership.sum()"
   ]
  },
  {
   "cell_type": "code",
   "execution_count": 19,
   "id": "4e72e80d",
   "metadata": {},
   "outputs": [
    {
     "data": {
      "text/html": [
       "<div>\n",
       "<style scoped>\n",
       "    .dataframe tbody tr th:only-of-type {\n",
       "        vertical-align: middle;\n",
       "    }\n",
       "\n",
       "    .dataframe tbody tr th {\n",
       "        vertical-align: top;\n",
       "    }\n",
       "\n",
       "    .dataframe thead th {\n",
       "        text-align: right;\n",
       "    }\n",
       "</style>\n",
       "<table border=\"1\" class=\"dataframe\">\n",
       "  <thead>\n",
       "    <tr style=\"text-align: right;\">\n",
       "      <th></th>\n",
       "      <th>Ratings</th>\n",
       "      <th>Votes</th>\n",
       "      <th>Viewership</th>\n",
       "      <th>Duration</th>\n",
       "    </tr>\n",
       "    <tr>\n",
       "      <th>Season</th>\n",
       "      <th></th>\n",
       "      <th></th>\n",
       "      <th></th>\n",
       "      <th></th>\n",
       "    </tr>\n",
       "  </thead>\n",
       "  <tbody>\n",
       "    <tr>\n",
       "      <th>1</th>\n",
       "      <td>47.8</td>\n",
       "      <td>25824</td>\n",
       "      <td>38.20</td>\n",
       "      <td>137</td>\n",
       "    </tr>\n",
       "    <tr>\n",
       "      <th>2</th>\n",
       "      <td>185.7</td>\n",
       "      <td>76866</td>\n",
       "      <td>179.70</td>\n",
       "      <td>498</td>\n",
       "    </tr>\n",
       "    <tr>\n",
       "      <th>3</th>\n",
       "      <td>197.5</td>\n",
       "      <td>74154</td>\n",
       "      <td>195.37</td>\n",
       "      <td>593</td>\n",
       "    </tr>\n",
       "    <tr>\n",
       "      <th>4</th>\n",
       "      <td>119.9</td>\n",
       "      <td>44739</td>\n",
       "      <td>119.67</td>\n",
       "      <td>455</td>\n",
       "    </tr>\n",
       "    <tr>\n",
       "      <th>5</th>\n",
       "      <td>220.7</td>\n",
       "      <td>75026</td>\n",
       "      <td>227.67</td>\n",
       "      <td>751</td>\n",
       "    </tr>\n",
       "    <tr>\n",
       "      <th>6</th>\n",
       "      <td>213.1</td>\n",
       "      <td>65138</td>\n",
       "      <td>201.92</td>\n",
       "      <td>755</td>\n",
       "    </tr>\n",
       "    <tr>\n",
       "      <th>7</th>\n",
       "      <td>199.4</td>\n",
       "      <td>65954</td>\n",
       "      <td>175.34</td>\n",
       "      <td>746</td>\n",
       "    </tr>\n",
       "    <tr>\n",
       "      <th>8</th>\n",
       "      <td>182.5</td>\n",
       "      <td>48942</td>\n",
       "      <td>129.25</td>\n",
       "      <td>552</td>\n",
       "    </tr>\n",
       "    <tr>\n",
       "      <th>9</th>\n",
       "      <td>182.0</td>\n",
       "      <td>56944</td>\n",
       "      <td>95.19</td>\n",
       "      <td>599</td>\n",
       "    </tr>\n",
       "  </tbody>\n",
       "</table>\n",
       "</div>"
      ],
      "text/plain": [
       "        Ratings  Votes  Viewership  Duration\n",
       "Season                                      \n",
       "1          47.8  25824       38.20       137\n",
       "2         185.7  76866      179.70       498\n",
       "3         197.5  74154      195.37       593\n",
       "4         119.9  44739      119.67       455\n",
       "5         220.7  75026      227.67       751\n",
       "6         213.1  65138      201.92       755\n",
       "7         199.4  65954      175.34       746\n",
       "8         182.5  48942      129.25       552\n",
       "9         182.0  56944       95.19       599"
      ]
     },
     "execution_count": 19,
     "metadata": {},
     "output_type": "execute_result"
    }
   ],
   "source": [
    "data.groupby(by=[\"Season\"]).sum()"
   ]
  },
  {
   "cell_type": "code",
   "execution_count": null,
   "id": "1abb7caa",
   "metadata": {},
   "outputs": [],
   "source": []
  }
 ],
 "metadata": {
  "kernelspec": {
   "display_name": "Python 3",
   "language": "python",
   "name": "python3"
  },
  "language_info": {
   "codemirror_mode": {
    "name": "ipython",
    "version": 3
   },
   "file_extension": ".py",
   "mimetype": "text/x-python",
   "name": "python",
   "nbconvert_exporter": "python",
   "pygments_lexer": "ipython3",
   "version": "3.8.8"
  }
 },
 "nbformat": 4,
 "nbformat_minor": 5
}
