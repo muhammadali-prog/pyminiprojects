{
 "cells": [
  {
   "cell_type": "code",
   "execution_count": 20,
   "id": "322f60e2",
   "metadata": {},
   "outputs": [
    {
     "name": "stdout",
     "output_type": "stream",
     "text": [
      "Enter any word or a sentence:khan@s.com\n",
      "khan@s.com\n",
      "range(0, 10)\n"
     ]
    }
   ],
   "source": [
    "e_address=input(\"Enter any word or a sentence:\")\n",
    "print(e_address)\n",
    "print(range(len(e_address)))"
   ]
  },
  {
   "cell_type": "code",
   "execution_count": 23,
   "id": "933f2b9d",
   "metadata": {},
   "outputs": [],
   "source": [
    "count=0\n",
    "verified=False\n",
    "for i in range(len(e_address)):\n",
    "    if (e_address[i]=='@')& ((i >0)&(i< len(e_address)-1)):\n",
    "        verified=True\n"
   ]
  },
  {
   "cell_type": "code",
   "execution_count": 24,
   "id": "f59cf8ca",
   "metadata": {},
   "outputs": [
    {
     "name": "stdout",
     "output_type": "stream",
     "text": [
      "looks like you have typed some email addree.\n"
     ]
    }
   ],
   "source": [
    "if verified:\n",
    "    print(\"looks like you have typed some email addree.\")\n",
    "\n",
    "else:\n",
    "    print(\"That's not an email address.\")"
   ]
  }
 ],
 "metadata": {
  "kernelspec": {
   "display_name": "Python 3",
   "language": "python",
   "name": "python3"
  },
  "language_info": {
   "codemirror_mode": {
    "name": "ipython",
    "version": 3
   },
   "file_extension": ".py",
   "mimetype": "text/x-python",
   "name": "python",
   "nbconvert_exporter": "python",
   "pygments_lexer": "ipython3",
   "version": "3.8.8"
  }
 },
 "nbformat": 4,
 "nbformat_minor": 5
}
